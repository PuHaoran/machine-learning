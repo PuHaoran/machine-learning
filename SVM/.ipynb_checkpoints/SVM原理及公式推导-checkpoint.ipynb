{
 "cells": [
  {
   "attachments": {},
   "cell_type": "markdown",
   "metadata": {},
   "source": [
    "支持向量机的学习策略是间隔最大化，可形式化为求解凸二次规划的问题（即约束型最小二乘的求解），也等价于正则化的合页损失函数的最小化问题，下面我们通过一步步推导，来了解SVM。\n",
    "\n",
    "### 最大间隔\n",
    "\n",
    "用一对平行的边界将正负样本分隔开，其中线就是超平面。\n",
    "<img src=\"./imgs/img01.jpg\" width = \"200\" height = \"200\" />\n",
    "\n",
    "假设中线的法向量是w，选定边界上的任一正样本为u，由图知$w \\cdot u > C$（C为原点到超平面的距离），若$C = -b$，则$w \\cdot u + b > 0$；\n",
    "\n",
    "若边界到超平面的距离为1，则对于所有正样本有$w \\cdot u+b>=1$；对于所有负样本$w \\cdot u+b<=-1$，连接边界上的两个正负样本，做差可得到一个向量，将且点乘w的单位向量，即可得到两个边界距离。\n",
    "\n",
    "令正负样本的标签分别为$y=1$和$y=-1$，则无论正负样本都有$y(w \\cdot x+b)-1>=0$\n",
    "\n",
    "白板过程如下\n",
    "<img src=\"./imgs/img02.png\" width = \"200\" height = \"200\" />\n",
    "最大化margin，相当于$min\\parallel{w} \\parallel$，相当于$min\\frac{1}{2}\\left \\|{w}\\right \\|^{2}$\n",
    "\n",
    "于是得到下面线性可分支持向量机的最优化问题\n",
    "\n",
    "$min_{w,b}\\frac{1}{2}\\left \\|{w}\\right \\|^{2}$，\n",
    "\n",
    "$s.t.$ $y_{i}(w^{T} \\cdot x_{i}+b)-1\\geq 0, i=1,2...N$\n",
    "\n",
    "这是支持向量机的基本型。\n",
    "\n",
    "#### 对偶算法\n",
    "为了求解上述的线性可分最优化问题，将它作为原始最优化问题，应用拉格朗日对偶性，通过求解对偶问题得到原始问题的最优解。这是线性可分支持向量机的对偶算法。那为何要这样做呢？\n",
    "    \n",
    "    1.对偶问题更容易求解\n",
    "    2.自然引入核函数，进而推广到非线性问题\n",
    "   \n",
    "$min_{w,b}\\frac{1}{2}\\left \\|{w}\\right \\|^{2}$，$s.t.$ $y_{i}(w^{T} \\cdot \\Phi(x_{i})+b)\\geq 1, i=1,2...N$\n",
    "\n",
    "应用拉格朗日乘子法得\n",
    "\n",
    "$L(w,b,α)=\\frac{1}{2}\\left \\|{w}\\right \\|^{2}-\\sum_{i=1}^n α_{i}(y_{i}(w^{T}\\cdot \\Phi(x_{i})+b)-1)$\n",
    "\n",
    "原问题是极小极大问题\n",
    "\n",
    "$min_{w,b}max_{α}L(w,b,α)$\n",
    "\n",
    "原始问题的对偶问题，是极大极小问题\n",
    "\n",
    "$max_{α}min_{w,b}L(w,b,α)$\n",
    "\n",
    "对偶问题具体如何由极小极大问题转化为极大极小问题，后面会在介绍拉格朗日部分给出更为详细的解释。"
   ]
  },
  {
   "cell_type": "markdown",
   "metadata": {},
   "source": [
    "$L=\\frac{1}{2}\\left \\|{w}\\right \\|^{2}-\\sum_{i=1}^n α_{i}(y_{i}(w\\cdot x_{i}+b)-1)-----①$\n",
    "\n",
    "令$\\frac{\\partial L}{\\partial w} = w-\\sum_{i=1}^n α_{i}y_{i}x_{i}=0$\n",
    "\n",
    "=> $w = \\sum_{i=1}^n α_{i}y_{i}x_{i}-----②$\n",
    "\n"
   ]
  },
  {
   "cell_type": "markdown",
   "metadata": {},
   "source": []
  },
  {
   "cell_type": "markdown",
   "metadata": {},
   "source": []
  },
  {
   "cell_type": "code",
   "execution_count": null,
   "metadata": {},
   "outputs": [],
   "source": []
  }
 ],
 "metadata": {
  "kernelspec": {
   "display_name": "Python 3",
   "language": "python",
   "name": "python3"
  },
  "language_info": {
   "codemirror_mode": {
    "name": "ipython",
    "version": 3
   },
   "file_extension": ".py",
   "mimetype": "text/x-python",
   "name": "python",
   "nbconvert_exporter": "python",
   "pygments_lexer": "ipython3",
   "version": "3.6.8"
  }
 },
 "nbformat": 4,
 "nbformat_minor": 2
}
